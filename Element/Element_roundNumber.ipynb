{
 "cells": [
  {
   "cell_type": "code",
   "execution_count": 2,
   "metadata": {
    "collapsed": false
   },
   "outputs": [],
   "source": [
    "\n",
    "count = 1\n",
    "udn = 'udn'\n",
    "\n",
    "for i in range (1,10001):\n",
    "    num = str(count)\n",
    "    if count < 10:\n",
    "        num = str(0) * 4 + num\n",
    "    elif count < 100:     \n",
    "        num = str(0) * 3 + num\n",
    "    elif count < 1000:     \n",
    "        num = str(0) * 2 + num\n",
    "    elif count < 10000:     \n",
    "        num = str(0) * 1 + num\n",
    "   \n",
    "    pk = udn + num   \n",
    "    count += 1 "
   ]
  },
  {
   "cell_type": "code",
   "execution_count": 3,
   "metadata": {
    "collapsed": false
   },
   "outputs": [
    {
     "data": {
      "text/plain": [
       "'udn10000'"
      ]
     },
     "execution_count": 3,
     "metadata": {},
     "output_type": "execute_result"
    }
   ],
   "source": [
    "pk"
   ]
  },
  {
   "cell_type": "code",
   "execution_count": null,
   "metadata": {
    "collapsed": true
   },
   "outputs": [],
   "source": []
  }
 ],
 "metadata": {
  "kernelspec": {
   "display_name": "Python 2",
   "language": "python",
   "name": "python2"
  },
  "language_info": {
   "codemirror_mode": {
    "name": "ipython",
    "version": 2
   },
   "file_extension": ".py",
   "mimetype": "text/x-python",
   "name": "python",
   "nbconvert_exporter": "python",
   "pygments_lexer": "ipython2",
   "version": "2.7.10"
  }
 },
 "nbformat": 4,
 "nbformat_minor": 0
}
