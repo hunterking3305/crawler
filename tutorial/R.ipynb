{
 "cells": [
  {
   "cell_type": "code",
   "execution_count": null,
   "metadata": {
    "collapsed": true
   },
   "outputs": [],
   "source": [
    "#學習資源\n",
    "● https://www.ptt.cc/bbs/R_Language/M.1382251406.A.957.html\n",
    "● http://bryannotes.blogspot.tw/2014/05/r_15.html\n",
    "● https://makyru.wordpress.com/2014/12/31/r-language-learning-log-reference-continuously-updated/"
   ]
  }
 ],
 "metadata": {
  "kernelspec": {
   "display_name": "Python 2",
   "language": "python",
   "name": "python2"
  },
  "language_info": {
   "codemirror_mode": {
    "name": "ipython",
    "version": 2
   },
   "file_extension": ".py",
   "mimetype": "text/x-python",
   "name": "python",
   "nbconvert_exporter": "python",
   "pygments_lexer": "ipython2",
   "version": "2.7.10"
  }
 },
 "nbformat": 4,
 "nbformat_minor": 0
}
