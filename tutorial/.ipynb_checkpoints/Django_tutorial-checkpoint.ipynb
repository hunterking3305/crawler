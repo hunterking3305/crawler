{
 "cells": [
  {
   "cell_type": "markdown",
   "metadata": {},
   "source": [
    "● 教學網址\n",
    "https://djangogirlstaipei.gitbooks.io/django-girls-taipei-tutorial/content/index.html\n",
    "\n",
    "● 安裝Django (先安裝過python)：\n",
    "pip install \"django<1.8\"\n",
    "\n",
    "●安裝確認：\n",
    "import django\n",
    "\n",
    "●版本確認：\n",
    "django.VERSION\n"
   ]
  },
  {
   "cell_type": "markdown",
   "metadata": {},
   "source": [
    "● 指令方法\n",
    "\n",
    "建立 django 專案 --> django-admin.py startproject <project_name>\n",
    "\n",
    "查看 django command 的使用方法 --> python manage.py -h <command_name>\t\n",
    "\n",
    "啟動開發伺服器 --> python manage.py runserver\t\n",
    "\n",
    "新增 django app --> python manage.py startapp <app_name>"
   ]
  },
  {
   "cell_type": "code",
   "execution_count": null,
   "metadata": {
    "collapsed": true
   },
   "outputs": [],
   "source": [
    "#虛擬環境安裝，使用virtualenv\n",
    "\n",
    "$ pip install virtualenv  #安裝\n",
    "\n",
    "#建立名為test_env的虛擬環境\n",
    "\n",
    "$ virtualenv test_env\n",
    "\n",
    "#windows啟動虛擬環境，去Scripts執行activate檔\n",
    "\n",
    "$ test_env\\Scripts\\activate\n",
    "\n",
    "#離開虛擬環境\n",
    "\n",
    "(env)$ deactivate\n"
   ]
  },
  {
   "cell_type": "code",
   "execution_count": null,
   "metadata": {
    "collapsed": false
   },
   "outputs": [],
   "source": [
    "#Project & Apps\n",
    "#建立Projact\n",
    "django-admin.py startproject mysite\n",
    "\n",
    "#建立trips這個App\n",
    "cd mysite\n",
    "\n",
    "python manage.py startapp trips\n",
    "\n",
    "# 資料夾內mysite/settings.py\n",
    "# Application definition (定義Apps)\n",
    "#請注意 app 之間有時候需要特定先後順序。在此，我們將自訂的trips加在最後面。\n",
    "INSTALLED_APPS = (\n",
    "    'django.contrib.admin',\n",
    "    'django.contrib.auth',\n",
    "    'django.contrib.contenttypes',\n",
    "    'django.contrib.sessions',\n",
    "    'django.contrib.messages',\n",
    "    'django.contrib.staticfiles',\n",
    "    'trips',\n",
    ")\n"
   ]
  },
  {
   "cell_type": "code",
   "execution_count": null,
   "metadata": {
    "collapsed": false
   },
   "outputs": [],
   "source": [
    "# Django Views\n",
    "#建立名為hello_world的View\n",
    "\n",
    "# 目錄內的trips/views.py\n",
    "from django.http import HttpResponse\n",
    "def hello_world(request):\n",
    "    return HttpResponse(\"Hello World!\")\n",
    "\n",
    "# Django url\n",
    "#設定連結hello_world的url\n",
    "#新增 url(r'^hello/$', hello_world),\n",
    "\n",
    "# 目錄內的mysite/urls.py\n",
    "from django.conf.urls import patterns, include, url\n",
    "from django.contrib import admin\n",
    "from trips.views import hello_world\n",
    "\n",
    "urlpatterns = patterns('',\n",
    "    # Examples:\n",
    "    # url(r'^$', 'mysite.views.home', name='home'),\n",
    "    # url(r'^blog/', include('blog.urls')),\n",
    "\n",
    "    url(r'^admin/', include(admin.site.urls)),\n",
    "    url(r'^hello/$', hello_world),\n",
    ")\n",
    "\n",
    "\n",
    "#測試\n",
    "http://127.0.0.1:8000/hello/"
   ]
  },
  {
   "cell_type": "markdown",
   "metadata": {},
   "source": [
    "●補充說明 url(regex,view)，規則以 regular expression 來表達\n",
    "\n",
    "● regex -- 定義的 URL 規則\n",
    "\n",
    "r'^hello/$' 代表的是 hello/ 這種 URL\n",
    "\n",
    "● view -- 對應的 view function\n",
    "\n",
    "指的是 hello_world() 這個 view\n",
    "\n",
    "'trips.views.hello_world' -- trips 裡的 views.py 中的 hello_world() function"
   ]
  },
  {
   "cell_type": "code",
   "execution_count": null,
   "metadata": {
    "collapsed": true
   },
   "outputs": [],
   "source": [
    "#建立前端程式碼的Template\n",
    "#建立資料夾\n",
    "mkdir templates\n",
    "\n",
    "# 新增至目錄內的mysite/settings.py最後面\n",
    "TEMPLATE_DIRS = (\n",
    "    os.path.join(BASE_DIR, 'templates').replace('\\\\', '/'),\n",
    ")\n",
    "\n",
    "#透過render連接view與template目錄內的前端網頁hello_world程式碼\n",
    "\n",
    "# 修改trips/views.py\n",
    "from datetime import datetime\n",
    "from django.shortcuts import render\n",
    "def hello_world(request):\n",
    "    return render(request,\n",
    "                  'hello_world.html',\n",
    "                  {'current_time': datetime.now()})"
   ]
  },
  {
   "cell_type": "code",
   "execution_count": null,
   "metadata": {
    "collapsed": true
   },
   "outputs": [],
   "source": [
    "#● Models ：利用 Django Model 定義資料庫的結構 ( Schema )，並透過 Django 指令創建資料庫、資料表及欄位。\n",
    "\n",
    "#Step1：設定資料庫\n",
    "#mysite/settings.py\n",
    "\n",
    "DATABASES = {\n",
    "    'default': {\n",
    "        'ENGINE': 'django.db.backends.sqlite3',\n",
    "        'NAME': os.path.join(BASE_DIR, 'db.sqlite3'),\n",
    "    }\n",
    "}\n",
    "\n",
    "#ENGINE -- 你要使用的資料庫引擎，例如：\n",
    "#MySQL: django.db.backends.mysql\n",
    "#SQLite 3: django.db.backends.sqlite3\n",
    "#PostgreSQL: django.db.backends.postgresql_psycopg2\n",
    "#NAME -- 你的資料庫名稱\n",
    "\n",
    "\n",
    "#Step2：設定table\n",
    "\n",
    "# trips/models.py\n",
    "from django.db import models\n",
    "#宣告一個post物件內有欄位設定(post有點table的概念)\n",
    "class Post(models.Model):\n",
    "    title = models.CharField(max_length=100)\n",
    "    content = models.TextField(blank=True)\n",
    "    photo = models.URLField(blank=True)\n",
    "    location = models.CharField(max_length=100)\n",
    "    created_at = models.DateTimeField(auto_now_add=True)\n",
    "\n",
    "\n",
    "#Step3：資料庫同步工作\n",
    ">> python manage.py migrate\n",
    "#會根據INSTALLED_APPS的設定，按照 app 順序建立或更新資料表，將你在 models.py 裡的更新跟資料庫同步。\n",
    "\n",
    ">> python manage.py makemigrations\n",
    "#會根據你對 Model 的修改刪除建立一個新的 migration 檔案，讓migrate指令執行時，可以照著這份紀錄更新資料庫。"
   ]
  },
  {
   "cell_type": "code",
   "execution_count": null,
   "metadata": {
    "collapsed": true
   },
   "outputs": [],
   "source": [
    "#如何使用 Django API 來與資料庫互動 (CRUD)\n",
    "#CRUD 指的是，Create (新增)、Read (讀取)、Update (修改)、Delete (刪除) 等常見的資料庫操作。\n",
    "#物件關聯對映 (Object Relational Mapping，簡稱ORM，「虛擬對象資料庫」)\n",
    "\n",
    "#strp1：需要再Django環境下，因此要先進入 Django Shell\n",
    ">>python manage.py shell\n",
    "\n",
    "#strp2：使用QuerySet API的 create\n",
    ">>from trips.models import Post      #import post這個table \n",
    ">>Post.objects.create(title='My First Trip', content='肚子好餓，吃什麼好呢?',  location='台北火車站')     #新增第一筆資料\n",
    ">>> Post.objects.create(title='My Second Trip', content='去散散步吧',  location='台北火車站')        #新增第二筆資料\n",
    "\n",
    "#strp3：使用QuerySet API的 Read，顯示Post所有的物件資料 ，可以使用 all()\n",
    ">>> Post.objects.all()\n",
    "\n",
    "#strp4：透過修改 trips/models.py，將 \"Post物件表示\" 轉為 \"__str__表示\"\n",
    "\n",
    "# trips/models.py\n",
    "from django.db import models\n",
    "class Post(models.Model):\n",
    "    created_at = models.DateTimeField(auto_now_add=True)\n",
    "\n",
    "    def __str__(self):\n",
    "        return self.title\n",
    "\n",
    "#strp5：檢查結果\n",
    ">>> Post.objects.all()\n",
    "(result)>> [<Post: My First Trip>, <Post: My Second Trip>, <Post: Django 大冒險>]\n",
    "\n"
   ]
  }
 ],
 "metadata": {
  "kernelspec": {
   "display_name": "Python 2",
   "language": "python",
   "name": "python2"
  },
  "language_info": {
   "codemirror_mode": {
    "name": "ipython",
    "version": 2
   },
   "file_extension": ".py",
   "mimetype": "text/x-python",
   "name": "python",
   "nbconvert_exporter": "python",
   "pygments_lexer": "ipython2",
   "version": "2.7.10"
  }
 },
 "nbformat": 4,
 "nbformat_minor": 0
}
