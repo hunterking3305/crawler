{
 "cells": [
  {
   "cell_type": "markdown",
   "metadata": {},
   "source": [
    "下載與安裝\n",
    "\n",
    "https://www.mongodb.org/"
   ]
  },
  {
   "cell_type": "markdown",
   "metadata": {},
   "source": [
    "● 指令 \n",
    "● show dbs ---> 查詢資料庫\n",
    "● ctrl + c ---> 離開\n",
    "● show collections ---> 查詢collections"
   ]
  },
  {
   "cell_type": "code",
   "execution_count": null,
   "metadata": {
    "collapsed": true
   },
   "outputs": [],
   "source": [
    "● 環境設置並進入Mongodb的世界\n",
    "\n",
    ">> cmd 以管理員身分進入，開啟mongodb service\n",
    "\n",
    "#若沒有設定環境變數，必須進入C:\\Program Files\\MongoDB\\Server\\3.0\\bin下執行\n",
    "\n",
    ">> cd C:\\Program Files\\MongoDB\\Server\\3.0\\bin\n",
    "\n",
    ">> mongod --dbpath [指定data存放的路徑]\n",
    "\n",
    "#若有設定環境變數，在任何位置皆可執行指令\n",
    "\n",
    ">> mongod --dbpath [指定data存放的路徑]\n",
    "\n",
    "另開cmd進入mongodb，原cmd是DB service服務中\n",
    "\n",
    ">> mongo"
   ]
  },
  {
   "cell_type": "code",
   "execution_count": null,
   "metadata": {
    "collapsed": true
   },
   "outputs": [],
   "source": []
  }
 ],
 "metadata": {
  "kernelspec": {
   "display_name": "Python 2",
   "language": "python",
   "name": "python2"
  },
  "language_info": {
   "codemirror_mode": {
    "name": "ipython",
    "version": 2
   },
   "file_extension": ".py",
   "mimetype": "text/x-python",
   "name": "python",
   "nbconvert_exporter": "python",
   "pygments_lexer": "ipython2",
   "version": "2.7.10"
  }
 },
 "nbformat": 4,
 "nbformat_minor": 0
}
