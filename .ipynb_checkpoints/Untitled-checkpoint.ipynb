{
 "cells": [
  {
   "cell_type": "code",
   "execution_count": 11,
   "metadata": {
    "collapsed": false
   },
   "outputs": [],
   "source": [
    "import datetime\n",
    "import jdcal\n",
    "sys_time = datetime.datetime.now()\n",
    "year = sys_time.year\n",
    "month = sys_time.month\n",
    "day = sys_time.day\n",
    "# print sys_time\n",
    "\n",
    "# timeData = {\"year\":year, \"month\":month, \"day\":day, \"hour\":hour,\"minute\":minute, \"second\":second}\n",
    "timeData = {\"year\":year, \"month\":month, \"day\":day}\n",
    "\n",
    "def jd(timeData):\n",
    "# # #jdcal.gcal2jd()方法可以把時間轉換成一串數字，後面加上時分秒的需求，hour的-8是因應時區。\n",
    "# # #詳細情形可以查詢 儒略日\n",
    "#     return sum(jdcal.gcal2jd(timeData[\"year\"], timeData[\"month\"], timeData[\"day\"]))+(timeData[\"hour\"]-8)/24.0+timeData[\"minute\"]/(24.0*60.0)+timeData[\"second\"]/(24.0*60.0*60.0)\n",
    "    return sum(jdcal.gcal2jd(timeData[\"year\"], timeData[\"month\"], timeData[\"day\"]))\n",
    "\n",
    "    jdValue = jd(timeData)\n",
    "#timeData 是新聞的時間，versus 是自己設定的時間點\n",
    "    if jd(timeData) >= jd(versus):\n",
    "        selector = True\n",
    "    else:\n",
    "        selector = False\n",
    "        \n",
    "    print jdValue"
   ]
  }
 ],
 "metadata": {
  "kernelspec": {
   "display_name": "Python 2",
   "language": "python",
   "name": "python2"
  },
  "language_info": {
   "codemirror_mode": {
    "name": "ipython",
    "version": 2
   },
   "file_extension": ".py",
   "mimetype": "text/x-python",
   "name": "python",
   "nbconvert_exporter": "python",
   "pygments_lexer": "ipython2",
   "version": "2.7.10"
  }
 },
 "nbformat": 4,
 "nbformat_minor": 0
}
