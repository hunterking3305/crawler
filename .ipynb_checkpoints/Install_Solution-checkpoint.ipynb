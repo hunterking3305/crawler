{
 "cells": [
  {
   "cell_type": "markdown",
   "metadata": {},
   "source": [
    "# Download Anaconda(是一個python程式)\n",
    "https://www.continuum.io/downloads\n",
    "下載安裝即可\n",
    "\n",
    "Finished!"
   ]
  },
  {
   "cell_type": "markdown",
   "metadata": {},
   "source": [
    "# Download Pandas\n",
    "http://www.lfd.uci.edu/~gohlke/pythonlibs/#pandas\n",
    "pandas‑0.16.2‑cp27‑none‑win32.whl\n",
    "\n",
    "# Download VCForPython27套件並安裝\n",
    "https://goo.gl/nBRz7G\n",
    "解決python在install時常發生的問題\n",
    "參考教學：http://www.largitdata.com/course/45/\n",
    "\n",
    "Step1：進入cmd\n",
    "--> pip install pandas\n",
    "\n",
    "Finished!"
   ]
  },
  {
   "cell_type": "code",
   "execution_count": null,
   "metadata": {
    "collapsed": true
   },
   "outputs": [],
   "source": [
    "#seleniumrequests 使用方法\n",
    "from seleniumrequests import Firefox\n",
    "webdriver = Firefox()\n",
    "response = webdriver.request('GET', 'http://news.ltn.com.tw/news/business/paper/925898')\n",
    "print response"
   ]
  }
 ],
 "metadata": {
  "kernelspec": {
   "display_name": "Python 2",
   "language": "python",
   "name": "python2"
  },
  "language_info": {
   "codemirror_mode": {
    "name": "ipython",
    "version": 2
   },
   "file_extension": ".py",
   "mimetype": "text/x-python",
   "name": "python",
   "nbconvert_exporter": "python",
   "pygments_lexer": "ipython2",
   "version": "2.7.10"
  }
 },
 "nbformat": 4,
 "nbformat_minor": 0
}
