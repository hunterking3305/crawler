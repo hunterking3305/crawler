{
 "cells": [
  {
   "cell_type": "code",
   "execution_count": null,
   "metadata": {
    "collapsed": true
   },
   "outputs": [],
   "source": [
    "#儲存文章連結 正規表示法吃連結 用來建立連結資料\n",
    "def getlinkv2 (script):\n",
    "    global count\n",
    "    global pkcount\n",
    "    m = re.findall('(http://udn.com/news/.*\\d+)',script)\n",
    "    udn = 'udn'\n",
    "    for link in m:\n",
    "        num = str(pkcount)\n",
    "        if pkcount < 10:\n",
    "            num = str(0) * 4 + num\n",
    "        elif pkcount < 100:     \n",
    "            num = str(0) * 3 + num\n",
    "        elif pkcount < 1000:     \n",
    "            num = str(0) * 2 + num\n",
    "        elif pkcount < 10000:     \n",
    "            num = str(0) * 1 + num\n",
    "        pk = udn + num   \n",
    "        links = {'link':link,'area':area,'page':page,'count':count,'pk':pk}\n",
    "        linkary.append(links)\n",
    "        count +=1\n",
    "        pkcount +=1"
   ]
  },
  {
   "cell_type": "code",
   "execution_count": null,
   "metadata": {
    "collapsed": false,
    "scrolled": true
   },
   "outputs": [],
   "source": [
    "#requests 方法 找出網頁特性 發現是jsp.net 直接對伺服器發送要求\n",
    "import requests\n",
    "import re\n",
    "import time\n",
    "#列出所需查詢區域 一開始先測試3區的效果\n",
    "#['中正區','大同區','中山區','松山區','大安區','萬華區','信義區','士林區','北投區','內湖區','南港區','文山區']\n",
    "ary = ['中正區','大同區','中山區','松山區','大安區','萬華區','信義區','士林區','北投區','內湖區','南港區','文山區']\n",
    "links = {'link':'','area':'','page':'','count':''}\n",
    "linkary =[]\n",
    "#每一區\n",
    "pkcount = 1\n",
    "for area in ary:\n",
    "    count = 1\n",
    "    headers = {\n",
    "'Host':'search.udn.com',\n",
    "'Referer':'http://udn.com/search/result/2/'+ area,\n",
    "'User-Agent':'Mozilla/5.0 (Windows NT 6.1; WOW64) AppleWebKit/537.36 (KHTML, like Gecko) Chrome/45.0.2454.101 Safari/537.36'\n",
    "}\n",
    "#每一頁    \n",
    "    for page in range(1,13):\n",
    "        res =requests.get('http://search.udn.com/search/searchResult4utf8.jsp?ch=udn.news2014&df=2&rc=15&wc=80&pw=220&mc=&q=' + \\\n",
    "                          area + '&fp={}'.format(page),headers = headers,timeout=3)\n",
    "        time.sleep(3) #避免讓伺服器察覺攻擊\n",
    "        script = res.text\n",
    "        getlinkv2(script)"
   ]
  },
  {
   "cell_type": "code",
   "execution_count": null,
   "metadata": {
    "collapsed": false,
    "scrolled": true
   },
   "outputs": [],
   "source": [
    "import pandas as pd\n",
    "data1 = pd.DataFrame(linkary)\n",
    "data1"
   ]
  },
  {
   "cell_type": "code",
   "execution_count": null,
   "metadata": {
    "collapsed": true
   },
   "outputs": [],
   "source": [
    "#輸出成CSV檔將連結存起 假如需要可以讀回\n",
    "data1.to_csv('udn_link.csv',encode='utf-8')"
   ]
  },
  {
   "cell_type": "code",
   "execution_count": 2,
   "metadata": {
    "collapsed": true
   },
   "outputs": [],
   "source": [
    "#讀回程式\n",
    "import csv\n",
    "linkary = []\n",
    "with open('udn_linktst.csv') as csvfile:\n",
    "    reader = csv.DictReader(csvfile)\n",
    "    for row in reader:\n",
    "        linkary.append(row)"
   ]
  },
  {
   "cell_type": "code",
   "execution_count": null,
   "metadata": {
    "collapsed": true
   },
   "outputs": [],
   "source": [
    "# #擷取新聞內文 ptag\n",
    "# def content(pcont):\n",
    "#     cont = ''\n",
    "#     for con in pcont:\n",
    "#         cont = cont + con.text.strip()\n",
    "#     return cont"
   ]
  },
  {
   "cell_type": "code",
   "execution_count": 16,
   "metadata": {
    "collapsed": false,
    "scrolled": true
   },
   "outputs": [],
   "source": [
    "#取得文章內容及標題\n",
    "import requests\n",
    "from bs4 import BeautifulSoup as bs\n",
    "import pandas\n",
    "import time\n",
    "headers = {\n",
    "'User-Agent':'Mozilla/5.0 (Windows NT 6.1; WOW64) AppleWebKit/537.36 (KHTML, like Gecko) Chrome/45.0.2454.101 Safari/537.36'\n",
    "}\n",
    "for get in linkary:\n",
    "    #強制取得 建議不要使用while 在一般requests套件中 會被伺服器端察覺\n",
    "    text = ''\n",
    "    while True:\n",
    "        try:\n",
    "            url = get['link']\n",
    "            res = requests.get(url,headers=headers)\n",
    "            soup = bs(res.content)\n",
    "            break\n",
    "        except:\n",
    "            print 'try again 5sec'\n",
    "            time.sleep(5)\n",
    "        \n",
    "        try:\n",
    "            get['title'] = soup.select('#story_body_content h2')[0].text.strip()\n",
    "            get['date'] = soup.select('#story_body_content h3')[0].text.strip().split(' ')[0]\n",
    "            for p_tag in soup.select('#story_body_content p'):\n",
    "                text += p_tag.text.strip()\n",
    "            get['content'] = text\n",
    "        \n",
    "#     for article in soup.select('#story_body_content'):\n",
    "#         try:\n",
    "#             get['title'] = article.select('h2')[0].text.strip()\n",
    "#             pcont = article.select('p')\n",
    "#             get['content'] = content(pcont)\n",
    "# #             get['content'] = article.select('p')[0].text.strip()\n",
    "#             get['date'] = article.select('h3')[0].text.strip().split(' ')[0]\n",
    "            \n",
    "#             #get['time'] = article.select('h3')[0].text.strip().split(' ')[1] 發文時間可要可不要\n",
    "        except:\n",
    "            print 'this link has some problem'\n",
    "            print get['link'], get['area'], get['count']\n",
    "            continue"
   ]
  },
  {
   "cell_type": "code",
   "execution_count": 15,
   "metadata": {
    "collapsed": false,
    "scrolled": true
   },
   "outputs": [
    {
     "data": {
      "text/html": [
       "<div>\n",
       "<table border=\"1\" class=\"dataframe\">\n",
       "  <thead>\n",
       "    <tr style=\"text-align: right;\">\n",
       "      <th></th>\n",
       "      <th>area</th>\n",
       "      <th>count</th>\n",
       "      <th>link</th>\n",
       "      <th>page</th>\n",
       "      <th>pk</th>\n",
       "    </tr>\n",
       "  </thead>\n",
       "  <tbody>\n",
       "    <tr>\n",
       "      <th>0</th>\n",
       "      <td>中正區</td>\n",
       "      <td>11</td>\n",
       "      <td>http://udn.com/news/story/1/1275914</td>\n",
       "      <td>1</td>\n",
       "      <td>udn00011</td>\n",
       "    </tr>\n",
       "    <tr>\n",
       "      <th>1</th>\n",
       "      <td>中正區</td>\n",
       "      <td>12</td>\n",
       "      <td>http://udn.com/news/story/7266/1274252</td>\n",
       "      <td>1</td>\n",
       "      <td>udn00012</td>\n",
       "    </tr>\n",
       "    <tr>\n",
       "      <th>2</th>\n",
       "      <td>中正區</td>\n",
       "      <td>13</td>\n",
       "      <td>http://udn.com/news/story/6/1273474</td>\n",
       "      <td>1</td>\n",
       "      <td>udn00013</td>\n",
       "    </tr>\n",
       "    <tr>\n",
       "      <th>3</th>\n",
       "      <td>中正區</td>\n",
       "      <td>14</td>\n",
       "      <td>http://udn.com/news/story/2/1273297</td>\n",
       "      <td>1</td>\n",
       "      <td>udn00014</td>\n",
       "    </tr>\n",
       "    <tr>\n",
       "      <th>4</th>\n",
       "      <td>中正區</td>\n",
       "      <td>15</td>\n",
       "      <td>http://udn.com/news/story/2/1273226</td>\n",
       "      <td>1</td>\n",
       "      <td>udn00015</td>\n",
       "    </tr>\n",
       "    <tr>\n",
       "      <th>5</th>\n",
       "      <td>中正區</td>\n",
       "      <td>16</td>\n",
       "      <td>http://udn.com/news/story/2/1273225</td>\n",
       "      <td>2</td>\n",
       "      <td>udn00016</td>\n",
       "    </tr>\n",
       "    <tr>\n",
       "      <th>6</th>\n",
       "      <td>中正區</td>\n",
       "      <td>17</td>\n",
       "      <td>http://udn.com/news/story/2/1273223</td>\n",
       "      <td>2</td>\n",
       "      <td>udn00017</td>\n",
       "    </tr>\n",
       "    <tr>\n",
       "      <th>7</th>\n",
       "      <td>中正區</td>\n",
       "      <td>18</td>\n",
       "      <td>http://udn.com/news/story/2/1273004</td>\n",
       "      <td>2</td>\n",
       "      <td>udn00018</td>\n",
       "    </tr>\n",
       "    <tr>\n",
       "      <th>8</th>\n",
       "      <td>中正區</td>\n",
       "      <td>19</td>\n",
       "      <td>http://udn.com/news/story/6655/1270657</td>\n",
       "      <td>2</td>\n",
       "      <td>udn00019</td>\n",
       "    </tr>\n",
       "    <tr>\n",
       "      <th>9</th>\n",
       "      <td>中正區</td>\n",
       "      <td>20</td>\n",
       "      <td>http://udn.com/news/story/7741/1270406</td>\n",
       "      <td>2</td>\n",
       "      <td>udn00020</td>\n",
       "    </tr>\n",
       "    <tr>\n",
       "      <th>10</th>\n",
       "      <td>中正區</td>\n",
       "      <td>21</td>\n",
       "      <td>http://udn.com/news/story/7210/1266639</td>\n",
       "      <td>2</td>\n",
       "      <td>udn00021</td>\n",
       "    </tr>\n",
       "  </tbody>\n",
       "</table>\n",
       "</div>"
      ],
      "text/plain": [
       "   area count                                    link page        pk\n",
       "0   中正區    11     http://udn.com/news/story/1/1275914    1  udn00011\n",
       "1   中正區    12  http://udn.com/news/story/7266/1274252    1  udn00012\n",
       "2   中正區    13     http://udn.com/news/story/6/1273474    1  udn00013\n",
       "3   中正區    14     http://udn.com/news/story/2/1273297    1  udn00014\n",
       "4   中正區    15     http://udn.com/news/story/2/1273226    1  udn00015\n",
       "5   中正區    16     http://udn.com/news/story/2/1273225    2  udn00016\n",
       "6   中正區    17     http://udn.com/news/story/2/1273223    2  udn00017\n",
       "7   中正區    18     http://udn.com/news/story/2/1273004    2  udn00018\n",
       "8   中正區    19  http://udn.com/news/story/6655/1270657    2  udn00019\n",
       "9   中正區    20  http://udn.com/news/story/7741/1270406    2  udn00020\n",
       "10  中正區    21  http://udn.com/news/story/7210/1266639    2  udn00021"
      ]
     },
     "execution_count": 15,
     "metadata": {},
     "output_type": "execute_result"
    }
   ],
   "source": [
    "#將新聞內文轉成 DataFrame\n",
    "import pandas as pd\n",
    "data2 = pd.DataFrame(linkary)\n",
    "\n",
    "#刪除多餘 column\n",
    "udn_ok = data2.drop(data2.columns[[0]],axis = 1)\n",
    "udn_ok"
   ]
  },
  {
   "cell_type": "code",
   "execution_count": 11,
   "metadata": {
    "collapsed": true
   },
   "outputs": [],
   "source": [
    "#輸出完成品\n",
    "udn_ok.to_csv('udn.csv',encoding='utf-8')"
   ]
  },
  {
   "cell_type": "code",
   "execution_count": null,
   "metadata": {
    "collapsed": true
   },
   "outputs": [],
   "source": []
  },
  {
   "cell_type": "code",
   "execution_count": null,
   "metadata": {
    "collapsed": true
   },
   "outputs": [],
   "source": [
    "# pcont = article.select('p')\n",
    "# get['content'] = content(pcont)\n",
    "# def content(pcont):\n",
    "#     cont = ''\n",
    "#     for con in pcont:\n",
    "#         cont = cont + con.text.strip()\n",
    "#     return cont"
   ]
  }
 ],
 "metadata": {
  "kernelspec": {
   "display_name": "Python 2",
   "language": "python",
   "name": "python2"
  },
  "language_info": {
   "codemirror_mode": {
    "name": "ipython",
    "version": 2
   },
   "file_extension": ".py",
   "mimetype": "text/x-python",
   "name": "python",
   "nbconvert_exporter": "python",
   "pygments_lexer": "ipython2",
   "version": "2.7.10"
  }
 },
 "nbformat": 4,
 "nbformat_minor": 0
}
